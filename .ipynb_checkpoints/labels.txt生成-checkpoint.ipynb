{
 "cells": [
  {
   "cell_type": "markdown",
   "id": "6cdcdc25",
   "metadata": {},
   "source": [
    "# 读取annotation中的类别文件名，构建类别标签文件"
   ]
  },
  {
   "cell_type": "code",
   "execution_count": 2,
   "id": "2d237bec",
   "metadata": {},
   "outputs": [],
   "source": [
    "import os"
   ]
  },
  {
   "cell_type": "code",
   "execution_count": 6,
   "id": "d22fabaa",
   "metadata": {},
   "outputs": [
    {
     "name": "stdout",
     "output_type": "stream",
     "text": [
      "now you are at the file-dir stage.\n",
      "file-writen has finished.\n"
     ]
    }
   ],
   "source": [
    "def generate_label_txt(file_dir,target_dir):\n",
    "    if os.path.isdir(file_dir):\n",
    "        print(\"now you are at the file-dir stage.\")\n",
    "        file_name = os.listdir(file_dir)\n",
    "        with open(target_dir + \"/labels.txt\",\"w+\",encoding=\"utf8\") as f:\n",
    "            for lines in file_name:\n",
    "                f.write(lines+\"\\n\")\n",
    "        print(\"file-writen has finished.\")\n",
    "        f.close()\n",
    "    \n",
    "generate_label_txt(\"E:/university/2022 semester/data_bird_box/JPGimages/train\",\"E:/university/2022 semester/data_bird_box/model_data\")\n",
    "        "
   ]
  },
  {
   "cell_type": "code",
   "execution_count": null,
   "id": "a4dfec19",
   "metadata": {},
   "outputs": [],
   "source": []
  }
 ],
 "metadata": {
  "kernelspec": {
   "display_name": "Python 3 (ipykernel)",
   "language": "python",
   "name": "python3"
  },
  "language_info": {
   "codemirror_mode": {
    "name": "ipython",
    "version": 3
   },
   "file_extension": ".py",
   "mimetype": "text/x-python",
   "name": "python",
   "nbconvert_exporter": "python",
   "pygments_lexer": "ipython3",
   "version": "3.7.12"
  }
 },
 "nbformat": 4,
 "nbformat_minor": 5
}
