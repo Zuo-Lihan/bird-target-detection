{
 "cells": [
  {
   "cell_type": "markdown",
   "id": "38220ea0",
   "metadata": {},
   "source": [
    "# 读取test.txt中的test图片存入指定文件目录中"
   ]
  },
  {
   "cell_type": "code",
   "execution_count": 24,
   "id": "5d9f0c37",
   "metadata": {},
   "outputs": [],
   "source": [
    "from PIL import Image\n",
    "import matplotlib.pyplot as plt\n",
    "import os\n",
    "import sys"
   ]
  },
  {
   "cell_type": "code",
   "execution_count": 25,
   "id": "a3a66f79",
   "metadata": {},
   "outputs": [],
   "source": [
    "def read_img_from_txtlog(txt,img_file):\n",
    "    count = 0\n",
    "    with open(txt,\"r\",encoding=\"utf8\") as f:\n",
    "        for line in f.readlines():\n",
    "            count = count + 1\n",
    "            imgname = line.split()\n",
    "            print(\"img names:\",imgname[0])\n",
    "            img = Image.open(imgname[0])\n",
    "            img.save(img_file+\"/\"+str(count)+\".jpg\")"
   ]
  },
  {
   "cell_type": "code",
   "execution_count": 26,
   "id": "d8c12c24",
   "metadata": {},
   "outputs": [
    {
     "name": "stdout",
     "output_type": "stream",
     "text": [
      "img names: E:\\university\\2022semester/鸟类检测/bird-target-detection/JPGimages/train/001.Black_footed_Albatross/Black_Footed_Albatross_0019_796104.jpg\n",
      "img names: E:\\university\\2022semester/鸟类检测/bird-target-detection/JPGimages/train/001.Black_footed_Albatross/Black_Footed_Albatross_0046_18.jpg\n",
      "img names: E:\\university\\2022semester/鸟类检测/bird-target-detection/JPGimages/train/001.Black_footed_Albatross/Black_Footed_Albatross_0051_796103.jpg\n",
      "img names: E:\\university\\2022semester/鸟类检测/bird-target-detection/JPGimages/train/001.Black_footed_Albatross/Black_Footed_Albatross_0057_796106.jpg\n",
      "img names: E:\\university\\2022semester/鸟类检测/bird-target-detection/JPGimages/train/001.Black_footed_Albatross/Black_Footed_Albatross_0065_796068.jpg\n",
      "img names: E:\\university\\2022semester/鸟类检测/bird-target-detection/JPGimages/train/001.Black_footed_Albatross/Black_Footed_Albatross_0068_796135.jpg\n",
      "img names: E:\\university\\2022semester/鸟类检测/bird-target-detection/JPGimages/train/002.Laysan_Albatross/Laysan_Albatross_0005_565.jpg\n",
      "img names: E:\\university\\2022semester/鸟类检测/bird-target-detection/JPGimages/train/002.Laysan_Albatross/Laysan_Albatross_0034_628.jpg\n",
      "img names: E:\\university\\2022semester/鸟类检测/bird-target-detection/JPGimages/train/002.Laysan_Albatross/Laysan_Albatross_0056_500.jpg\n",
      "img names: E:\\university\\2022semester/鸟类检测/bird-target-detection/JPGimages/train/002.Laysan_Albatross/Laysan_Albatross_0058_637.jpg\n",
      "img names: E:\\university\\2022semester/鸟类检测/bird-target-detection/JPGimages/train/002.Laysan_Albatross/Laysan_Albatross_0071_792.jpg\n",
      "img names: E:\\university\\2022semester/鸟类检测/bird-target-detection/JPGimages/train/002.Laysan_Albatross/Laysan_Albatross_0075_668.jpg\n",
      "img names: E:\\university\\2022semester/鸟类检测/bird-target-detection/JPGimages/train/003.Sooty_Albatross/Sooty_Albatross_0007_796372.jpg\n",
      "img names: E:\\university\\2022semester/鸟类检测/bird-target-detection/JPGimages/train/003.Sooty_Albatross/Sooty_Albatross_0021_796339.jpg\n",
      "img names: E:\\university\\2022semester/鸟类检测/bird-target-detection/JPGimages/train/003.Sooty_Albatross/Sooty_Albatross_0030_1122.jpg\n",
      "img names: E:\\university\\2022semester/鸟类检测/bird-target-detection/JPGimages/train/003.Sooty_Albatross/Sooty_Albatross_0033_1128.jpg\n",
      "img names: E:\\university\\2022semester/鸟类检测/bird-target-detection/JPGimages/train/003.Sooty_Albatross/Sooty_Albatross_0040_796375.jpg\n",
      "img names: E:\\university\\2022semester/鸟类检测/bird-target-detection/JPGimages/train/003.Sooty_Albatross/Sooty_Albatross_0048_1130.jpg\n",
      "img names: E:\\university\\2022semester/鸟类检测/bird-target-detection/JPGimages/train/004.Groove_billed_Ani/Groove_Billed_Ani_0006_1763.jpg\n",
      "img names: E:\\university\\2022semester/鸟类检测/bird-target-detection/JPGimages/train/004.Groove_billed_Ani/Groove_Billed_Ani_0051_1650.jpg\n",
      "img names: E:\\university\\2022semester/鸟类检测/bird-target-detection/JPGimages/train/004.Groove_billed_Ani/Groove_Billed_Ani_0088_1678.jpg\n",
      "img names: E:\\university\\2022semester/鸟类检测/bird-target-detection/JPGimages/train/004.Groove_billed_Ani/Groove_Billed_Ani_0090_1567.jpg\n",
      "img names: E:\\university\\2022semester/鸟类检测/bird-target-detection/JPGimages/train/004.Groove_billed_Ani/Groove_Billed_Ani_0108_1639.jpg\n",
      "img names: E:\\university\\2022semester/鸟类检测/bird-target-detection/JPGimages/train/004.Groove_billed_Ani/Groove_Billed_Ani_0109_1592.jpg\n",
      "img names: E:\\university\\2022semester/鸟类检测/bird-target-detection/JPGimages/train/005.Crested_Auklet/Crested_Auklet_0052_794952.jpg\n",
      "img names: E:\\university\\2022semester/鸟类检测/bird-target-detection/JPGimages/train/005.Crested_Auklet/Crested_Auklet_0061_794904.jpg\n",
      "img names: E:\\university\\2022semester/鸟类检测/bird-target-detection/JPGimages/train/005.Crested_Auklet/Crested_Auklet_0069_785258.jpg\n",
      "img names: E:\\university\\2022semester/鸟类检测/bird-target-detection/JPGimages/train/005.Crested_Auklet/Crested_Auklet_0073_785248.jpg\n",
      "img names: E:\\university\\2022semester/鸟类检测/bird-target-detection/JPGimages/train/005.Crested_Auklet/Crested_Auklet_0076_785252.jpg\n",
      "img names: E:\\university\\2022semester/鸟类检测/bird-target-detection/JPGimages/train/006.Least_Auklet/Least_Auklet_0008_795071.jpg\n",
      "img names: E:\\university\\2022semester/鸟类检测/bird-target-detection/JPGimages/train/006.Least_Auklet/Least_Auklet_0017_795084.jpg\n",
      "img names: E:\\university\\2022semester/鸟类检测/bird-target-detection/JPGimages/train/006.Least_Auklet/Least_Auklet_0018_795077.jpg\n",
      "img names: E:\\university\\2022semester/鸟类检测/bird-target-detection/JPGimages/train/006.Least_Auklet/Least_Auklet_0026_795066.jpg\n",
      "img names: E:\\university\\2022semester/鸟类检测/bird-target-detection/JPGimages/train/006.Least_Auklet/Least_Auklet_0043_795067.jpg\n",
      "img names: E:\\university\\2022semester/鸟类检测/bird-target-detection/JPGimages/train/007.Parakeet_Auklet/Parakeet_Auklet_0012_795927.jpg\n",
      "img names: E:\\university\\2022semester/鸟类检测/bird-target-detection/JPGimages/train/007.Parakeet_Auklet/Parakeet_Auklet_0013_795970.jpg\n",
      "img names: E:\\university\\2022semester/鸟类检测/bird-target-detection/JPGimages/train/007.Parakeet_Auklet/Parakeet_Auklet_0032_795986.jpg\n",
      "img names: E:\\university\\2022semester/鸟类检测/bird-target-detection/JPGimages/train/007.Parakeet_Auklet/Parakeet_Auklet_0051_795971.jpg\n",
      "img names: E:\\university\\2022semester/鸟类检测/bird-target-detection/JPGimages/train/007.Parakeet_Auklet/Parakeet_Auklet_0061_795990.jpg\n",
      "img names: E:\\university\\2022semester/鸟类检测/bird-target-detection/JPGimages/train/007.Parakeet_Auklet/Parakeet_Auklet_0075_795981.jpg\n",
      "img names: E:\\university\\2022semester/鸟类检测/bird-target-detection/JPGimages/train/008.Rhinoceros_Auklet/Rhinoceros_Auklet_0012_2161.jpg\n",
      "img names: E:\\university\\2022semester/鸟类检测/bird-target-detection/JPGimages/train/008.Rhinoceros_Auklet/Rhinoceros_Auklet_0016_2114.jpg\n",
      "img names: E:\\university\\2022semester/鸟类检测/bird-target-detection/JPGimages/train/008.Rhinoceros_Auklet/Rhinoceros_Auklet_0019_797513.jpg\n",
      "img names: E:\\university\\2022semester/鸟类检测/bird-target-detection/JPGimages/train/008.Rhinoceros_Auklet/Rhinoceros_Auklet_0031_797518.jpg\n",
      "img names: E:\\university\\2022semester/鸟类检测/bird-target-detection/JPGimages/train/008.Rhinoceros_Auklet/Rhinoceros_Auklet_0043_2096.jpg\n",
      "img names: E:\\university\\2022semester/鸟类检测/bird-target-detection/JPGimages/train/009.Brewer_Blackbird/Brewer_Blackbird_0035_2611.jpg\n",
      "img names: E:\\university\\2022semester/鸟类检测/bird-target-detection/JPGimages/train/009.Brewer_Blackbird/Brewer_Blackbird_0038_2294.jpg\n",
      "img names: E:\\university\\2022semester/鸟类检测/bird-target-detection/JPGimages/train/009.Brewer_Blackbird/Brewer_Blackbird_0046_2688.jpg\n",
      "img names: E:\\university\\2022semester/鸟类检测/bird-target-detection/JPGimages/train/009.Brewer_Blackbird/Brewer_Blackbird_0074_2277.jpg\n",
      "img names: E:\\university\\2022semester/鸟类检测/bird-target-detection/JPGimages/train/009.Brewer_Blackbird/Brewer_Blackbird_0127_2235.jpg\n",
      "img names: E:\\university\\2022semester/鸟类检测/bird-target-detection/JPGimages/train/009.Brewer_Blackbird/Brewer_Blackbird_0132_2293.jpg\n",
      "img names: E:\\university\\2022semester/鸟类检测/bird-target-detection/JPGimages/train/010.Red_winged_Blackbird/Red_Winged_Blackbird_0001_3695.jpg\n",
      "img names: E:\\university\\2022semester/鸟类检测/bird-target-detection/JPGimages/train/010.Red_winged_Blackbird/Red_Winged_Blackbird_0005_5636.jpg\n",
      "img names: E:\\university\\2022semester/鸟类检测/bird-target-detection/JPGimages/train/010.Red_winged_Blackbird/Red_Winged_Blackbird_0027_4123.jpg\n",
      "img names: E:\\university\\2022semester/鸟类检测/bird-target-detection/JPGimages/train/010.Red_winged_Blackbird/Red_Winged_Blackbird_0052_5575.jpg\n",
      "img names: E:\\university\\2022semester/鸟类检测/bird-target-detection/JPGimages/train/010.Red_winged_Blackbird/Red_Winged_Blackbird_0060_4688.jpg\n",
      "img names: E:\\university\\2022semester/鸟类检测/bird-target-detection/JPGimages/train/010.Red_winged_Blackbird/Red_Winged_Blackbird_0101_6244.jpg\n"
     ]
    }
   ],
   "source": [
    "read_img_from_txtlog(\"test.txt\",\"img\")"
   ]
  },
  {
   "cell_type": "code",
   "execution_count": null,
   "id": "36f02654",
   "metadata": {},
   "outputs": [],
   "source": []
  }
 ],
 "metadata": {
  "kernelspec": {
   "display_name": "Python 3",
   "language": "python",
   "name": "python3"
  },
  "language_info": {
   "codemirror_mode": {
    "name": "ipython",
    "version": 3
   },
   "file_extension": ".py",
   "mimetype": "text/x-python",
   "name": "python",
   "nbconvert_exporter": "python",
   "pygments_lexer": "ipython3",
   "version": "3.6.15"
  }
 },
 "nbformat": 4,
 "nbformat_minor": 5
}
